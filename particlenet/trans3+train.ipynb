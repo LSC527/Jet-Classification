{
 "cells": [
  {
   "cell_type": "code",
   "execution_count": 1,
   "metadata": {
    "ExecuteTime": {
     "end_time": "2020-01-18T03:29:30.661163Z",
     "start_time": "2020-01-18T03:29:29.622875Z"
    }
   },
   "outputs": [],
   "source": [
    "import numpy as np\n",
    "import awkward"
   ]
  },
  {
   "cell_type": "code",
   "execution_count": 2,
   "metadata": {
    "ExecuteTime": {
     "end_time": "2020-01-18T03:29:30.665061Z",
     "start_time": "2020-01-18T03:29:30.662093Z"
    }
   },
   "outputs": [],
   "source": [
    "import logging\n",
    "logging.basicConfig(level=logging.INFO, format='[%(asctime)s] %(levelname)s: %(message)s')"
   ]
  },
  {
   "cell_type": "code",
   "execution_count": 3,
   "metadata": {
    "ExecuteTime": {
     "end_time": "2020-01-18T03:29:30.673042Z",
     "start_time": "2020-01-18T03:29:30.666058Z"
    }
   },
   "outputs": [],
   "source": [
    "def stack_arrays(a, keys, axis=-1):\n",
    "    flat_arr = np.stack([a[k].flatten() for k in keys], axis=axis)\n",
    "    return awkward.JaggedArray.fromcounts(a[keys[0]].counts, flat_arr)"
   ]
  },
  {
   "cell_type": "code",
   "execution_count": 4,
   "metadata": {
    "ExecuteTime": {
     "end_time": "2020-01-18T03:29:30.679023Z",
     "start_time": "2020-01-18T03:29:30.674036Z"
    }
   },
   "outputs": [],
   "source": [
    "def pad_array(a, maxlen, value=0., dtype='float32'):\n",
    "    x = (np.ones((len(a), maxlen)) * value).astype(dtype)\n",
    "    for idx, s in enumerate(a):\n",
    "        if not len(s):\n",
    "            continue\n",
    "        trunc = s[:maxlen].astype(dtype)\n",
    "        x[idx, :len(trunc)] = trunc\n",
    "    return x"
   ]
  },
  {
   "cell_type": "code",
   "execution_count": 5,
   "metadata": {
    "ExecuteTime": {
     "end_time": "2020-01-18T03:29:30.691993Z",
     "start_time": "2020-01-18T03:29:30.680020Z"
    }
   },
   "outputs": [],
   "source": [
    "class Dataset(object):\n",
    "\n",
    "    def __init__(self, filepath, feature_dict = {}, label='label', pad_len=80, data_format='channel_first'):\n",
    "        self.filepath = filepath\n",
    "        self.feature_dict = feature_dict\n",
    "        if len(feature_dict)==0:\n",
    "            feature_dict['points'] = ['part_etarel', 'part_phirel']\n",
    "            feature_dict['features'] = ['part_px', 'part_py', 'part_pz', 'part_energy',\n",
    "                                        'part_pt_log', 'part_e_log', \n",
    "                                        'part_etarel', 'part_phirel', 'part_deltaR']\n",
    "            feature_dict['mask'] = ['part_pt_log']\n",
    "        self.label = label\n",
    "        self.pad_len = pad_len\n",
    "        assert data_format in ('channel_first', 'channel_last')\n",
    "        self.stack_axis = 1 if data_format=='channel_first' else -1\n",
    "        self._values = {}\n",
    "        self._label = None\n",
    "        self._load()\n",
    "\n",
    "    def _load(self):\n",
    "        logging.info('Start loading file %s' % self.filepath)\n",
    "        counts = None\n",
    "        with awkward.load(self.filepath) as a:\n",
    "            self._label = a[self.label]\n",
    "            for k in self.feature_dict:\n",
    "                cols = self.feature_dict[k]\n",
    "                if not isinstance(cols, (list, tuple)):\n",
    "                    cols = [cols]\n",
    "                arrs = []\n",
    "                for col in cols:\n",
    "                    if counts is None:\n",
    "                        counts = a[col].counts\n",
    "                    else:\n",
    "                        assert np.array_equal(counts, a[col].counts)\n",
    "                    arrs.append(pad_array(a[col], self.pad_len))\n",
    "                self._values[k] = np.stack(arrs, axis=self.stack_axis)\n",
    "        logging.info('Finished loading file %s' % self.filepath)\n",
    "\n",
    "\n",
    "    def __len__(self):\n",
    "        return len(self._label)\n",
    "\n",
    "    def __getitem__(self, key):\n",
    "        if key==self.label:\n",
    "            return self._label\n",
    "        else:\n",
    "            return self._values[key]\n",
    "    \n",
    "    @property\n",
    "    def X(self):\n",
    "        return self._values\n",
    "    \n",
    "    @property\n",
    "    def y(self):\n",
    "        return self._label\n",
    "\n",
    "    def shuffle(self, seed=None):\n",
    "        if seed is not None:\n",
    "            np.random.seed(seed)\n",
    "        shuffle_indices = np.arange(self.__len__())\n",
    "        np.random.shuffle(shuffle_indices)\n",
    "        for k in self._values:\n",
    "            self._values[k] = self._values[k][shuffle_indices]\n",
    "        self._label = self._label[shuffle_indices]"
   ]
  },
  {
   "cell_type": "code",
   "execution_count": 6,
   "metadata": {
    "ExecuteTime": {
     "end_time": "2020-01-18T03:30:43.203124Z",
     "start_time": "2020-01-18T03:29:30.692985Z"
    }
   },
   "outputs": [
    {
     "name": "stderr",
     "output_type": "stream",
     "text": [
      "[2020-01-18 11:29:30,695] INFO: Start loading file E:/jet_complex_data/train_file_0.awkd\n",
      "[2020-01-18 11:30:19,767] INFO: Finished loading file E:/jet_complex_data/train_file_0.awkd\n",
      "[2020-01-18 11:30:19,800] INFO: Start loading file E:/jet_complex_data/test_file_0.awkd\n",
      "[2020-01-18 11:30:43,182] INFO: Finished loading file E:/jet_complex_data/test_file_0.awkd\n"
     ]
    }
   ],
   "source": [
    "path = 'E:/jet_complex_data/'\n",
    "train_dataset = Dataset(path+'train_file_0.awkd', data_format='channel_last')\n",
    "test_dataset = Dataset(path+'test_file_0.awkd', data_format='channel_last')\n"
   ]
  },
  {
   "cell_type": "code",
   "execution_count": 7,
   "metadata": {
    "ExecuteTime": {
     "end_time": "2020-01-18T03:30:58.365663Z",
     "start_time": "2020-01-18T03:30:43.204150Z"
    }
   },
   "outputs": [],
   "source": [
    "import tensorflow as tf\n",
    "from tensorflow import keras\n",
    "from tf_keras_model import get_particle_net, get_particle_net_lite"
   ]
  },
  {
   "cell_type": "code",
   "execution_count": 8,
   "metadata": {
    "ExecuteTime": {
     "end_time": "2020-01-18T03:31:00.694952Z",
     "start_time": "2020-01-18T03:30:58.366662Z"
    },
    "scrolled": true
   },
   "outputs": [
    {
     "name": "stderr",
     "output_type": "stream",
     "text": [
      "[2020-01-18 11:30:58,891] WARNING: From D:\\Anaconda3\\lib\\site-packages\\tensorflow_core\\python\\ops\\resource_variable_ops.py:1630: calling BaseResourceVariable.__init__ (from tensorflow.python.ops.resource_variable_ops) with constraint is deprecated and will be removed in a future version.\n",
      "Instructions for updating:\n",
      "If using Keras pass *_constraint arguments to layers.\n"
     ]
    }
   ],
   "source": [
    "model_type = 'particle_net' # choose between 'particle_net' and 'particle_net_lite'\n",
    "num_classes = train_dataset.y.shape[1]\n",
    "input_shapes = {k:train_dataset[k].shape[1:] for k in train_dataset.X}\n",
    "if 'lite' in model_type:\n",
    "    model = get_particle_net_lite(num_classes, input_shapes)\n",
    "else:\n",
    "    model = get_particle_net(num_classes, input_shapes)"
   ]
  },
  {
   "cell_type": "code",
   "execution_count": 9,
   "metadata": {
    "ExecuteTime": {
     "end_time": "2020-01-18T03:31:00.699844Z",
     "start_time": "2020-01-18T03:31:00.695854Z"
    }
   },
   "outputs": [],
   "source": [
    "# Training parameters\n",
    "batch_size = 1024 if 'lite' in model_type else 384\n",
    "epochs = 30"
   ]
  },
  {
   "cell_type": "code",
   "execution_count": 10,
   "metadata": {
    "ExecuteTime": {
     "end_time": "2020-01-18T03:31:00.707823Z",
     "start_time": "2020-01-18T03:31:00.701839Z"
    }
   },
   "outputs": [],
   "source": [
    "def lr_schedule(epoch):\n",
    "    lr = 1e-2\n",
    "    if epoch > 10:\n",
    "        lr *= 0.1\n",
    "    elif epoch > 20:\n",
    "        lr *= 0.01\n",
    "    logging.info('Learning rate: %f'%lr)\n",
    "    return lr"
   ]
  },
  {
   "cell_type": "code",
   "execution_count": 11,
   "metadata": {
    "ExecuteTime": {
     "end_time": "2020-01-18T03:31:00.810548Z",
     "start_time": "2020-01-18T03:31:00.709819Z"
    },
    "scrolled": true
   },
   "outputs": [
    {
     "name": "stderr",
     "output_type": "stream",
     "text": [
      "[2020-01-18 11:31:00,711] INFO: Learning rate: 0.010000\n"
     ]
    },
    {
     "name": "stdout",
     "output_type": "stream",
     "text": [
      "Model: \"ParticleNet\"\n",
      "__________________________________________________________________________________________________\n",
      "Layer (type)                    Output Shape         Param #     Connected to                     \n",
      "==================================================================================================\n",
      "mask (InputLayer)               [(None, 80, 1)]      0                                            \n",
      "__________________________________________________________________________________________________\n",
      "tf_op_layer_ParticleNet/NotEqua [(None, 80, 1)]      0           mask[0][0]                       \n",
      "__________________________________________________________________________________________________\n",
      "tf_op_layer_ParticleNet/Cast (T [(None, 80, 1)]      0           tf_op_layer_ParticleNet/NotEqual[\n",
      "__________________________________________________________________________________________________\n",
      "tf_op_layer_ParticleNet/Equal ( [(None, 80, 1)]      0           tf_op_layer_ParticleNet/Cast[0][0\n",
      "__________________________________________________________________________________________________\n",
      "tf_op_layer_ParticleNet/Cast_1  [(None, 80, 1)]      0           tf_op_layer_ParticleNet/Equal[0][\n",
      "__________________________________________________________________________________________________\n",
      "tf_op_layer_ParticleNet/Mul (Te [(None, 80, 1)]      0           tf_op_layer_ParticleNet/Cast_1[0]\n",
      "__________________________________________________________________________________________________\n",
      "points (InputLayer)             [(None, 80, 2)]      0                                            \n",
      "__________________________________________________________________________________________________\n",
      "tf_op_layer_ParticleNet/Add (Te [(None, 80, 2)]      0           tf_op_layer_ParticleNet/Mul[0][0]\n",
      "                                                                 points[0][0]                     \n",
      "__________________________________________________________________________________________________\n",
      "features (InputLayer)           [(None, 80, 9)]      0                                            \n",
      "__________________________________________________________________________________________________\n",
      "tf_op_layer_ParticleNet/edgecon [(None, 2, 80)]      0           tf_op_layer_ParticleNet/Add[0][0]\n",
      "__________________________________________________________________________________________________\n",
      "tf_op_layer_ParticleNet/ExpandD [(None, 80, 1, 9)]   0           features[0][0]                   \n",
      "__________________________________________________________________________________________________\n",
      "tf_op_layer_ParticleNet/edgecon [(None, 80, 2)]      0           tf_op_layer_ParticleNet/Add[0][0]\n",
      "                                                                 tf_op_layer_ParticleNet/Add[0][0]\n",
      "__________________________________________________________________________________________________\n",
      "tf_op_layer_ParticleNet/edgecon [(None, 80, 80)]     0           tf_op_layer_ParticleNet/Add[0][0]\n",
      "                                                                 tf_op_layer_ParticleNet/edgeconv/\n",
      "__________________________________________________________________________________________________\n",
      "tf_op_layer_ParticleNet/edgecon [(None, 80, 2)]      0           tf_op_layer_ParticleNet/Add[0][0]\n",
      "                                                                 tf_op_layer_ParticleNet/Add[0][0]\n",
      "__________________________________________________________________________________________________\n",
      "ParticleNet_fts_bn (BatchNormal (None, 80, 1, 9)     36          tf_op_layer_ParticleNet/ExpandDim\n",
      "__________________________________________________________________________________________________\n",
      "tf_op_layer_ParticleNet/edgecon [(None, 80, 1)]      0           tf_op_layer_ParticleNet/edgeconv/\n",
      "__________________________________________________________________________________________________\n",
      "tf_op_layer_ParticleNet/edgecon [(None, 80, 80)]     0           tf_op_layer_ParticleNet/edgeconv/\n",
      "__________________________________________________________________________________________________\n",
      "tf_op_layer_ParticleNet/edgecon [(None, 80, 1)]      0           tf_op_layer_ParticleNet/edgeconv/\n",
      "__________________________________________________________________________________________________\n",
      "tf_op_layer_ParticleNet/Squeeze [(None, 80, 9)]      0           ParticleNet_fts_bn[0][0]         \n",
      "__________________________________________________________________________________________________\n",
      "tf_op_layer_ParticleNet/edgecon [(None, 80, 80)]     0           tf_op_layer_ParticleNet/edgeconv/\n",
      "                                                                 tf_op_layer_ParticleNet/edgeconv/\n",
      "__________________________________________________________________________________________________\n",
      "tf_op_layer_ParticleNet/edgecon [(None, 1, 80)]      0           tf_op_layer_ParticleNet/edgeconv/\n",
      "__________________________________________________________________________________________________\n",
      "tf_op_layer_ParticleNet/edgecon [(3,)]               0           tf_op_layer_ParticleNet/Squeeze[0\n",
      "__________________________________________________________________________________________________\n",
      "tf_op_layer_ParticleNet/edgecon [(None, 80, 80)]     0           tf_op_layer_ParticleNet/edgeconv/\n",
      "                                                                 tf_op_layer_ParticleNet/edgeconv/\n",
      "__________________________________________________________________________________________________\n",
      "tf_op_layer_ParticleNet/edgecon [()]                 0           tf_op_layer_ParticleNet/edgeconv/\n",
      "__________________________________________________________________________________________________\n",
      "tf_op_layer_ParticleNet/edgecon [(None, 80, 80)]     0           tf_op_layer_ParticleNet/edgeconv/\n",
      "__________________________________________________________________________________________________\n",
      "tf_op_layer_ParticleNet/edgecon [(None,)]            0           tf_op_layer_ParticleNet/edgeconv/\n",
      "__________________________________________________________________________________________________\n",
      "tf_op_layer_ParticleNet/edgecon [(None, 80, 17), (No 0           tf_op_layer_ParticleNet/edgeconv/\n",
      "__________________________________________________________________________________________________\n",
      "tf_op_layer_ParticleNet/edgecon [(None, 1, 1, 1)]    0           tf_op_layer_ParticleNet/edgeconv/\n",
      "__________________________________________________________________________________________________\n",
      "tf_op_layer_ParticleNet/edgecon [(None, 80, 16)]     0           tf_op_layer_ParticleNet/edgeconv/\n",
      "__________________________________________________________________________________________________\n",
      "tf_op_layer_ParticleNet/edgecon [(None, 80, 16, 1)]  0           tf_op_layer_ParticleNet/edgeconv/\n",
      "__________________________________________________________________________________________________\n",
      "tf_op_layer_ParticleNet/edgecon [(None, 80, 16, 1)]  0           tf_op_layer_ParticleNet/edgeconv/\n",
      "__________________________________________________________________________________________________\n",
      "tf_op_layer_ParticleNet/edgecon [(None, 80, 1, 9)]   0           tf_op_layer_ParticleNet/Squeeze[0\n",
      "__________________________________________________________________________________________________\n",
      "tf_op_layer_ParticleNet/edgecon [(None, 80, 16, 2)]  0           tf_op_layer_ParticleNet/edgeconv/\n",
      "                                                                 tf_op_layer_ParticleNet/edgeconv/\n",
      "__________________________________________________________________________________________________\n",
      "tf_op_layer_ParticleNet/edgecon [(None, 80, 16, 9)]  0           tf_op_layer_ParticleNet/edgeconv/\n",
      "__________________________________________________________________________________________________\n",
      "tf_op_layer_ParticleNet/edgecon [(None, 80, 16, 9)]  0           tf_op_layer_ParticleNet/Squeeze[0\n",
      "                                                                 tf_op_layer_ParticleNet/edgeconv/\n",
      "__________________________________________________________________________________________________\n",
      "tf_op_layer_ParticleNet/edgecon [(None, 80, 16, 9)]  0           tf_op_layer_ParticleNet/edgeconv/\n",
      "                                                                 tf_op_layer_ParticleNet/edgeconv/\n",
      "__________________________________________________________________________________________________\n",
      "tf_op_layer_ParticleNet/edgecon [(None, 80, 16, 18)] 0           tf_op_layer_ParticleNet/edgeconv/\n",
      "                                                                 tf_op_layer_ParticleNet/edgeconv/\n",
      "__________________________________________________________________________________________________\n",
      "ParticleNet_EdgeConv0_conv0 (Co (None, 80, 16, 64)   1152        tf_op_layer_ParticleNet/edgeconv/\n",
      "__________________________________________________________________________________________________\n",
      "ParticleNet_EdgeConv0_bn0 (Batc (None, 80, 16, 64)   256         ParticleNet_EdgeConv0_conv0[0][0]\n",
      "__________________________________________________________________________________________________\n",
      "ParticleNet_EdgeConv0_act0 (Act (None, 80, 16, 64)   0           ParticleNet_EdgeConv0_bn0[0][0]  \n",
      "__________________________________________________________________________________________________\n",
      "ParticleNet_EdgeConv0_conv1 (Co (None, 80, 16, 64)   4096        ParticleNet_EdgeConv0_act0[0][0] \n",
      "__________________________________________________________________________________________________\n",
      "ParticleNet_EdgeConv0_bn1 (Batc (None, 80, 16, 64)   256         ParticleNet_EdgeConv0_conv1[0][0]\n",
      "__________________________________________________________________________________________________\n",
      "ParticleNet_EdgeConv0_act1 (Act (None, 80, 16, 64)   0           ParticleNet_EdgeConv0_bn1[0][0]  \n",
      "__________________________________________________________________________________________________\n",
      "tf_op_layer_ParticleNet/edgecon [(None, 80, 1, 9)]   0           tf_op_layer_ParticleNet/Squeeze[0\n",
      "__________________________________________________________________________________________________\n",
      "ParticleNet_EdgeConv0_conv2 (Co (None, 80, 16, 64)   4096        ParticleNet_EdgeConv0_act1[0][0] \n",
      "__________________________________________________________________________________________________\n",
      "ParticleNet_EdgeConv0_sc_conv ( (None, 80, 1, 64)    576         tf_op_layer_ParticleNet/edgeconv/\n",
      "__________________________________________________________________________________________________\n",
      "ParticleNet_EdgeConv0_bn2 (Batc (None, 80, 16, 64)   256         ParticleNet_EdgeConv0_conv2[0][0]\n",
      "__________________________________________________________________________________________________\n",
      "ParticleNet_EdgeConv0_sc_bn (Ba (None, 80, 1, 64)    256         ParticleNet_EdgeConv0_sc_conv[0][\n",
      "__________________________________________________________________________________________________\n",
      "ParticleNet_EdgeConv0_act2 (Act (None, 80, 16, 64)   0           ParticleNet_EdgeConv0_bn2[0][0]  \n",
      "__________________________________________________________________________________________________\n",
      "tf_op_layer_ParticleNet/edgecon [(None, 80, 64)]     0           ParticleNet_EdgeConv0_sc_bn[0][0]\n",
      "__________________________________________________________________________________________________\n",
      "tf_op_layer_ParticleNet/edgecon [(None, 80, 64)]     0           ParticleNet_EdgeConv0_act2[0][0] \n",
      "__________________________________________________________________________________________________\n",
      "tf_op_layer_ParticleNet/edgecon [(None, 80, 64)]     0           tf_op_layer_ParticleNet/edgeconv/\n",
      "                                                                 tf_op_layer_ParticleNet/edgeconv/\n",
      "__________________________________________________________________________________________________\n",
      "ParticleNet_EdgeConv0_sc_act (A (None, 80, 64)       0           tf_op_layer_ParticleNet/edgeconv/\n",
      "__________________________________________________________________________________________________\n",
      "tf_op_layer_ParticleNet/Add_1 ( [(None, 80, 64)]     0           tf_op_layer_ParticleNet/Mul[0][0]\n",
      "                                                                 ParticleNet_EdgeConv0_sc_act[0][0\n",
      "__________________________________________________________________________________________________\n",
      "tf_op_layer_ParticleNet/edgecon [(None, 64, 80)]     0           tf_op_layer_ParticleNet/Add_1[0][\n",
      "__________________________________________________________________________________________________\n",
      "tf_op_layer_ParticleNet/edgecon [(None, 80, 64)]     0           tf_op_layer_ParticleNet/Add_1[0][\n",
      "                                                                 tf_op_layer_ParticleNet/Add_1[0][\n",
      "__________________________________________________________________________________________________\n",
      "tf_op_layer_ParticleNet/edgecon [(None, 80, 80)]     0           tf_op_layer_ParticleNet/Add_1[0][\n",
      "                                                                 tf_op_layer_ParticleNet/edgeconv_\n",
      "__________________________________________________________________________________________________\n",
      "tf_op_layer_ParticleNet/edgecon [(None, 80, 64)]     0           tf_op_layer_ParticleNet/Add_1[0][\n",
      "                                                                 tf_op_layer_ParticleNet/Add_1[0][\n",
      "__________________________________________________________________________________________________\n",
      "tf_op_layer_ParticleNet/edgecon [(None, 80, 1)]      0           tf_op_layer_ParticleNet/edgeconv_\n",
      "__________________________________________________________________________________________________\n",
      "tf_op_layer_ParticleNet/edgecon [(None, 80, 80)]     0           tf_op_layer_ParticleNet/edgeconv_\n",
      "__________________________________________________________________________________________________\n",
      "tf_op_layer_ParticleNet/edgecon [(None, 80, 1)]      0           tf_op_layer_ParticleNet/edgeconv_\n",
      "__________________________________________________________________________________________________\n",
      "tf_op_layer_ParticleNet/edgecon [(None, 80, 80)]     0           tf_op_layer_ParticleNet/edgeconv_\n",
      "                                                                 tf_op_layer_ParticleNet/edgeconv_\n",
      "__________________________________________________________________________________________________\n",
      "tf_op_layer_ParticleNet/edgecon [(None, 1, 80)]      0           tf_op_layer_ParticleNet/edgeconv_\n",
      "__________________________________________________________________________________________________\n",
      "tf_op_layer_ParticleNet/edgecon [(3,)]               0           ParticleNet_EdgeConv0_sc_act[0][0\n",
      "__________________________________________________________________________________________________\n",
      "tf_op_layer_ParticleNet/edgecon [(None, 80, 80)]     0           tf_op_layer_ParticleNet/edgeconv_\n",
      "                                                                 tf_op_layer_ParticleNet/edgeconv_\n",
      "__________________________________________________________________________________________________\n",
      "tf_op_layer_ParticleNet/edgecon [()]                 0           tf_op_layer_ParticleNet/edgeconv_\n",
      "__________________________________________________________________________________________________\n",
      "tf_op_layer_ParticleNet/edgecon [(None, 80, 80)]     0           tf_op_layer_ParticleNet/edgeconv_\n",
      "__________________________________________________________________________________________________\n",
      "tf_op_layer_ParticleNet/edgecon [(None,)]            0           tf_op_layer_ParticleNet/edgeconv_\n",
      "__________________________________________________________________________________________________\n",
      "tf_op_layer_ParticleNet/edgecon [(None, 80, 17), (No 0           tf_op_layer_ParticleNet/edgeconv_\n",
      "__________________________________________________________________________________________________\n",
      "tf_op_layer_ParticleNet/edgecon [(None, 1, 1, 1)]    0           tf_op_layer_ParticleNet/edgeconv_\n",
      "__________________________________________________________________________________________________\n",
      "tf_op_layer_ParticleNet/edgecon [(None, 80, 16)]     0           tf_op_layer_ParticleNet/edgeconv_\n",
      "__________________________________________________________________________________________________\n",
      "tf_op_layer_ParticleNet/edgecon [(None, 80, 16, 1)]  0           tf_op_layer_ParticleNet/edgeconv_\n",
      "__________________________________________________________________________________________________\n",
      "tf_op_layer_ParticleNet/edgecon [(None, 80, 16, 1)]  0           tf_op_layer_ParticleNet/edgeconv_\n",
      "__________________________________________________________________________________________________\n",
      "tf_op_layer_ParticleNet/edgecon [(None, 80, 1, 64)]  0           ParticleNet_EdgeConv0_sc_act[0][0\n",
      "__________________________________________________________________________________________________\n",
      "tf_op_layer_ParticleNet/edgecon [(None, 80, 16, 2)]  0           tf_op_layer_ParticleNet/edgeconv_\n",
      "                                                                 tf_op_layer_ParticleNet/edgeconv_\n",
      "__________________________________________________________________________________________________\n",
      "tf_op_layer_ParticleNet/edgecon [(None, 80, 16, 64)] 0           tf_op_layer_ParticleNet/edgeconv_\n",
      "__________________________________________________________________________________________________\n",
      "tf_op_layer_ParticleNet/edgecon [(None, 80, 16, 64)] 0           ParticleNet_EdgeConv0_sc_act[0][0\n",
      "                                                                 tf_op_layer_ParticleNet/edgeconv_\n",
      "__________________________________________________________________________________________________\n",
      "tf_op_layer_ParticleNet/edgecon [(None, 80, 16, 64)] 0           tf_op_layer_ParticleNet/edgeconv_\n",
      "                                                                 tf_op_layer_ParticleNet/edgeconv_\n",
      "__________________________________________________________________________________________________\n",
      "tf_op_layer_ParticleNet/edgecon [(None, 80, 16, 128) 0           tf_op_layer_ParticleNet/edgeconv_\n",
      "                                                                 tf_op_layer_ParticleNet/edgeconv_\n",
      "__________________________________________________________________________________________________\n",
      "ParticleNet_EdgeConv1_conv0 (Co (None, 80, 16, 128)  16384       tf_op_layer_ParticleNet/edgeconv_\n",
      "__________________________________________________________________________________________________\n",
      "ParticleNet_EdgeConv1_bn0 (Batc (None, 80, 16, 128)  512         ParticleNet_EdgeConv1_conv0[0][0]\n",
      "__________________________________________________________________________________________________\n",
      "ParticleNet_EdgeConv1_act0 (Act (None, 80, 16, 128)  0           ParticleNet_EdgeConv1_bn0[0][0]  \n",
      "__________________________________________________________________________________________________\n",
      "ParticleNet_EdgeConv1_conv1 (Co (None, 80, 16, 128)  16384       ParticleNet_EdgeConv1_act0[0][0] \n",
      "__________________________________________________________________________________________________\n",
      "ParticleNet_EdgeConv1_bn1 (Batc (None, 80, 16, 128)  512         ParticleNet_EdgeConv1_conv1[0][0]\n",
      "__________________________________________________________________________________________________\n",
      "ParticleNet_EdgeConv1_act1 (Act (None, 80, 16, 128)  0           ParticleNet_EdgeConv1_bn1[0][0]  \n",
      "__________________________________________________________________________________________________\n",
      "tf_op_layer_ParticleNet/edgecon [(None, 80, 1, 64)]  0           ParticleNet_EdgeConv0_sc_act[0][0\n",
      "__________________________________________________________________________________________________\n",
      "ParticleNet_EdgeConv1_conv2 (Co (None, 80, 16, 128)  16384       ParticleNet_EdgeConv1_act1[0][0] \n",
      "__________________________________________________________________________________________________\n",
      "ParticleNet_EdgeConv1_sc_conv ( (None, 80, 1, 128)   8192        tf_op_layer_ParticleNet/edgeconv_\n",
      "__________________________________________________________________________________________________\n",
      "ParticleNet_EdgeConv1_bn2 (Batc (None, 80, 16, 128)  512         ParticleNet_EdgeConv1_conv2[0][0]\n",
      "__________________________________________________________________________________________________\n",
      "ParticleNet_EdgeConv1_sc_bn (Ba (None, 80, 1, 128)   512         ParticleNet_EdgeConv1_sc_conv[0][\n",
      "__________________________________________________________________________________________________\n",
      "ParticleNet_EdgeConv1_act2 (Act (None, 80, 16, 128)  0           ParticleNet_EdgeConv1_bn2[0][0]  \n",
      "__________________________________________________________________________________________________\n",
      "tf_op_layer_ParticleNet/edgecon [(None, 80, 128)]    0           ParticleNet_EdgeConv1_sc_bn[0][0]\n",
      "__________________________________________________________________________________________________\n",
      "tf_op_layer_ParticleNet/edgecon [(None, 80, 128)]    0           ParticleNet_EdgeConv1_act2[0][0] \n",
      "__________________________________________________________________________________________________\n",
      "tf_op_layer_ParticleNet/edgecon [(None, 80, 128)]    0           tf_op_layer_ParticleNet/edgeconv_\n",
      "                                                                 tf_op_layer_ParticleNet/edgeconv_\n",
      "__________________________________________________________________________________________________\n",
      "ParticleNet_EdgeConv1_sc_act (A (None, 80, 128)      0           tf_op_layer_ParticleNet/edgeconv_\n",
      "__________________________________________________________________________________________________\n",
      "tf_op_layer_ParticleNet/Add_2 ( [(None, 80, 128)]    0           tf_op_layer_ParticleNet/Mul[0][0]\n",
      "                                                                 ParticleNet_EdgeConv1_sc_act[0][0\n",
      "__________________________________________________________________________________________________\n",
      "tf_op_layer_ParticleNet/edgecon [(None, 128, 80)]    0           tf_op_layer_ParticleNet/Add_2[0][\n",
      "__________________________________________________________________________________________________\n",
      "tf_op_layer_ParticleNet/edgecon [(None, 80, 128)]    0           tf_op_layer_ParticleNet/Add_2[0][\n",
      "                                                                 tf_op_layer_ParticleNet/Add_2[0][\n",
      "__________________________________________________________________________________________________\n",
      "tf_op_layer_ParticleNet/edgecon [(None, 80, 80)]     0           tf_op_layer_ParticleNet/Add_2[0][\n",
      "                                                                 tf_op_layer_ParticleNet/edgeconv_\n",
      "__________________________________________________________________________________________________\n",
      "tf_op_layer_ParticleNet/edgecon [(None, 80, 128)]    0           tf_op_layer_ParticleNet/Add_2[0][\n",
      "                                                                 tf_op_layer_ParticleNet/Add_2[0][\n",
      "__________________________________________________________________________________________________\n",
      "tf_op_layer_ParticleNet/edgecon [(None, 80, 1)]      0           tf_op_layer_ParticleNet/edgeconv_\n",
      "__________________________________________________________________________________________________\n",
      "tf_op_layer_ParticleNet/edgecon [(None, 80, 80)]     0           tf_op_layer_ParticleNet/edgeconv_\n",
      "__________________________________________________________________________________________________\n",
      "tf_op_layer_ParticleNet/edgecon [(None, 80, 1)]      0           tf_op_layer_ParticleNet/edgeconv_\n",
      "__________________________________________________________________________________________________\n",
      "tf_op_layer_ParticleNet/edgecon [(None, 80, 80)]     0           tf_op_layer_ParticleNet/edgeconv_\n",
      "                                                                 tf_op_layer_ParticleNet/edgeconv_\n",
      "__________________________________________________________________________________________________\n",
      "tf_op_layer_ParticleNet/edgecon [(None, 1, 80)]      0           tf_op_layer_ParticleNet/edgeconv_\n",
      "__________________________________________________________________________________________________\n",
      "tf_op_layer_ParticleNet/edgecon [(3,)]               0           ParticleNet_EdgeConv1_sc_act[0][0\n",
      "__________________________________________________________________________________________________\n",
      "tf_op_layer_ParticleNet/edgecon [(None, 80, 80)]     0           tf_op_layer_ParticleNet/edgeconv_\n",
      "                                                                 tf_op_layer_ParticleNet/edgeconv_\n",
      "__________________________________________________________________________________________________\n",
      "tf_op_layer_ParticleNet/edgecon [()]                 0           tf_op_layer_ParticleNet/edgeconv_\n",
      "__________________________________________________________________________________________________\n",
      "tf_op_layer_ParticleNet/edgecon [(None, 80, 80)]     0           tf_op_layer_ParticleNet/edgeconv_\n",
      "__________________________________________________________________________________________________\n",
      "tf_op_layer_ParticleNet/edgecon [(None,)]            0           tf_op_layer_ParticleNet/edgeconv_\n",
      "__________________________________________________________________________________________________\n",
      "tf_op_layer_ParticleNet/edgecon [(None, 80, 17), (No 0           tf_op_layer_ParticleNet/edgeconv_\n",
      "__________________________________________________________________________________________________\n",
      "tf_op_layer_ParticleNet/edgecon [(None, 1, 1, 1)]    0           tf_op_layer_ParticleNet/edgeconv_\n",
      "__________________________________________________________________________________________________\n",
      "tf_op_layer_ParticleNet/edgecon [(None, 80, 16)]     0           tf_op_layer_ParticleNet/edgeconv_\n",
      "__________________________________________________________________________________________________\n",
      "tf_op_layer_ParticleNet/edgecon [(None, 80, 16, 1)]  0           tf_op_layer_ParticleNet/edgeconv_\n",
      "__________________________________________________________________________________________________\n",
      "tf_op_layer_ParticleNet/edgecon [(None, 80, 16, 1)]  0           tf_op_layer_ParticleNet/edgeconv_\n",
      "__________________________________________________________________________________________________\n",
      "tf_op_layer_ParticleNet/edgecon [(None, 80, 1, 128)] 0           ParticleNet_EdgeConv1_sc_act[0][0\n",
      "__________________________________________________________________________________________________\n",
      "tf_op_layer_ParticleNet/edgecon [(None, 80, 16, 2)]  0           tf_op_layer_ParticleNet/edgeconv_\n",
      "                                                                 tf_op_layer_ParticleNet/edgeconv_\n",
      "__________________________________________________________________________________________________\n",
      "tf_op_layer_ParticleNet/edgecon [(None, 80, 16, 128) 0           tf_op_layer_ParticleNet/edgeconv_\n",
      "__________________________________________________________________________________________________\n",
      "tf_op_layer_ParticleNet/edgecon [(None, 80, 16, 128) 0           ParticleNet_EdgeConv1_sc_act[0][0\n",
      "                                                                 tf_op_layer_ParticleNet/edgeconv_\n",
      "__________________________________________________________________________________________________\n",
      "tf_op_layer_ParticleNet/edgecon [(None, 80, 16, 128) 0           tf_op_layer_ParticleNet/edgeconv_\n",
      "                                                                 tf_op_layer_ParticleNet/edgeconv_\n",
      "__________________________________________________________________________________________________\n",
      "tf_op_layer_ParticleNet/edgecon [(None, 80, 16, 256) 0           tf_op_layer_ParticleNet/edgeconv_\n",
      "                                                                 tf_op_layer_ParticleNet/edgeconv_\n",
      "__________________________________________________________________________________________________\n",
      "ParticleNet_EdgeConv2_conv0 (Co (None, 80, 16, 256)  65536       tf_op_layer_ParticleNet/edgeconv_\n",
      "__________________________________________________________________________________________________\n",
      "ParticleNet_EdgeConv2_bn0 (Batc (None, 80, 16, 256)  1024        ParticleNet_EdgeConv2_conv0[0][0]\n",
      "__________________________________________________________________________________________________\n",
      "ParticleNet_EdgeConv2_act0 (Act (None, 80, 16, 256)  0           ParticleNet_EdgeConv2_bn0[0][0]  \n",
      "__________________________________________________________________________________________________\n",
      "ParticleNet_EdgeConv2_conv1 (Co (None, 80, 16, 256)  65536       ParticleNet_EdgeConv2_act0[0][0] \n",
      "__________________________________________________________________________________________________\n",
      "ParticleNet_EdgeConv2_bn1 (Batc (None, 80, 16, 256)  1024        ParticleNet_EdgeConv2_conv1[0][0]\n",
      "__________________________________________________________________________________________________\n",
      "ParticleNet_EdgeConv2_act1 (Act (None, 80, 16, 256)  0           ParticleNet_EdgeConv2_bn1[0][0]  \n",
      "__________________________________________________________________________________________________\n",
      "tf_op_layer_ParticleNet/edgecon [(None, 80, 1, 128)] 0           ParticleNet_EdgeConv1_sc_act[0][0\n",
      "__________________________________________________________________________________________________\n",
      "ParticleNet_EdgeConv2_conv2 (Co (None, 80, 16, 256)  65536       ParticleNet_EdgeConv2_act1[0][0] \n",
      "__________________________________________________________________________________________________\n",
      "ParticleNet_EdgeConv2_sc_conv ( (None, 80, 1, 256)   32768       tf_op_layer_ParticleNet/edgeconv_\n",
      "__________________________________________________________________________________________________\n",
      "ParticleNet_EdgeConv2_bn2 (Batc (None, 80, 16, 256)  1024        ParticleNet_EdgeConv2_conv2[0][0]\n",
      "__________________________________________________________________________________________________\n",
      "ParticleNet_EdgeConv2_sc_bn (Ba (None, 80, 1, 256)   1024        ParticleNet_EdgeConv2_sc_conv[0][\n",
      "__________________________________________________________________________________________________\n",
      "ParticleNet_EdgeConv2_act2 (Act (None, 80, 16, 256)  0           ParticleNet_EdgeConv2_bn2[0][0]  \n",
      "__________________________________________________________________________________________________\n",
      "tf_op_layer_ParticleNet/edgecon [(None, 80, 256)]    0           ParticleNet_EdgeConv2_sc_bn[0][0]\n",
      "__________________________________________________________________________________________________\n",
      "tf_op_layer_ParticleNet/edgecon [(None, 80, 256)]    0           ParticleNet_EdgeConv2_act2[0][0] \n",
      "__________________________________________________________________________________________________\n",
      "tf_op_layer_ParticleNet/edgecon [(None, 80, 256)]    0           tf_op_layer_ParticleNet/edgeconv_\n",
      "                                                                 tf_op_layer_ParticleNet/edgeconv_\n",
      "__________________________________________________________________________________________________\n",
      "ParticleNet_EdgeConv2_sc_act (A (None, 80, 256)      0           tf_op_layer_ParticleNet/edgeconv_\n",
      "__________________________________________________________________________________________________\n",
      "tf_op_layer_ParticleNet/Mul_1 ( [(None, 80, 256)]    0           ParticleNet_EdgeConv2_sc_act[0][0\n",
      "                                                                 tf_op_layer_ParticleNet/Cast[0][0\n",
      "__________________________________________________________________________________________________\n",
      "tf_op_layer_ParticleNet/Mean (T [(None, 256)]        0           tf_op_layer_ParticleNet/Mul_1[0][\n",
      "__________________________________________________________________________________________________\n",
      "dense (Dense)                   (None, 256)          65792       tf_op_layer_ParticleNet/Mean[0][0\n",
      "__________________________________________________________________________________________________\n",
      "dropout (Dropout)               (None, 256)          0           dense[0][0]                      \n",
      "__________________________________________________________________________________________________\n",
      "dense_1 (Dense)                 (None, 4)            1028        dropout[0][0]                    \n",
      "==================================================================================================\n",
      "Total params: 370,664\n",
      "Trainable params: 367,062\n",
      "Non-trainable params: 3,602\n",
      "__________________________________________________________________________________________________\n"
     ]
    }
   ],
   "source": [
    "model.compile(loss='categorical_crossentropy',\n",
    "              optimizer=keras.optimizers.Adam(learning_rate=lr_schedule(0)),\n",
    "              metrics=['accuracy'])\n",
    "model.summary()"
   ]
  },
  {
   "cell_type": "code",
   "execution_count": 12,
   "metadata": {
    "ExecuteTime": {
     "end_time": "2020-01-18T03:31:00.816531Z",
     "start_time": "2020-01-18T03:31:00.811545Z"
    }
   },
   "outputs": [],
   "source": [
    "# Prepare model model saving directory.\n",
    "import os\n",
    "save_dir = 'model_checkpoints'\n",
    "model_name = '%s_model.{epoch:03d}.h5' % model_type\n",
    "if not os.path.isdir(save_dir):\n",
    "    os.makedirs(save_dir)\n",
    "filepath = os.path.join(save_dir, model_name)\n",
    "\n",
    "# Prepare callbacks for model saving and for learning rate adjustment.\n",
    "checkpoint = keras.callbacks.ModelCheckpoint(filepath=filepath,\n",
    "                             monitor='val_acc',\n",
    "                             verbose=1,\n",
    "                             save_best_only=True)\n",
    "\n",
    "lr_scheduler = keras.callbacks.LearningRateScheduler(lr_schedule)\n",
    "progress_bar = keras.callbacks.ProgbarLogger()\n",
    "callbacks = [checkpoint, lr_scheduler, progress_bar]"
   ]
  },
  {
   "cell_type": "code",
   "execution_count": 13,
   "metadata": {
    "ExecuteTime": {
     "end_time": "2020-01-18T03:49:23.886995Z",
     "start_time": "2020-01-18T03:31:00.818527Z"
    },
    "scrolled": true
   },
   "outputs": [
    {
     "name": "stdout",
     "output_type": "stream",
     "text": [
      "Train on 1134555 samples\n"
     ]
    },
    {
     "name": "stderr",
     "output_type": "stream",
     "text": [
      "[2020-01-18 11:31:04,727] INFO: Learning rate: 0.010000\n"
     ]
    },
    {
     "name": "stdout",
     "output_type": "stream",
     "text": [
      "Epoch 1/5\n",
      "Epoch 1/5\n",
      "  21888/1134555 [..............................] - ETA: 15:05:37 - loss: 1.3548 - acc: 0.3758"
     ]
    },
    {
     "name": "stderr",
     "output_type": "stream",
     "text": [
      "[2020-01-18 11:49:19,364] INFO: NumExpr defaulting to 6 threads.\n"
     ]
    },
    {
     "ename": "KeyboardInterrupt",
     "evalue": "",
     "output_type": "error",
     "traceback": [
      "\u001b[1;31m---------------------------------------------------------------------------\u001b[0m",
      "\u001b[1;31mKeyboardInterrupt\u001b[0m                         Traceback (most recent call last)",
      "\u001b[1;32m<ipython-input-13-e6506dde8e5a>\u001b[0m in \u001b[0;36m<module>\u001b[1;34m\u001b[0m\n\u001b[0;32m      6\u001b[0m \u001b[1;31m#           validation_data=(val_dataset.X, val_dataset.y),\u001b[0m\u001b[1;33m\u001b[0m\u001b[1;33m\u001b[0m\u001b[1;33m\u001b[0m\u001b[0m\n\u001b[0;32m      7\u001b[0m           \u001b[0mshuffle\u001b[0m\u001b[1;33m=\u001b[0m\u001b[1;32mTrue\u001b[0m\u001b[1;33m,\u001b[0m\u001b[1;33m\u001b[0m\u001b[1;33m\u001b[0m\u001b[0m\n\u001b[1;32m----> 8\u001b[1;33m           callbacks=callbacks)\n\u001b[0m",
      "\u001b[1;32mD:\\Anaconda3\\lib\\site-packages\\tensorflow_core\\python\\keras\\engine\\training.py\u001b[0m in \u001b[0;36mfit\u001b[1;34m(self, x, y, batch_size, epochs, verbose, callbacks, validation_split, validation_data, shuffle, class_weight, sample_weight, initial_epoch, steps_per_epoch, validation_steps, validation_freq, max_queue_size, workers, use_multiprocessing, **kwargs)\u001b[0m\n\u001b[0;32m    725\u001b[0m         \u001b[0mmax_queue_size\u001b[0m\u001b[1;33m=\u001b[0m\u001b[0mmax_queue_size\u001b[0m\u001b[1;33m,\u001b[0m\u001b[1;33m\u001b[0m\u001b[1;33m\u001b[0m\u001b[0m\n\u001b[0;32m    726\u001b[0m         \u001b[0mworkers\u001b[0m\u001b[1;33m=\u001b[0m\u001b[0mworkers\u001b[0m\u001b[1;33m,\u001b[0m\u001b[1;33m\u001b[0m\u001b[1;33m\u001b[0m\u001b[0m\n\u001b[1;32m--> 727\u001b[1;33m         use_multiprocessing=use_multiprocessing)\n\u001b[0m\u001b[0;32m    728\u001b[0m \u001b[1;33m\u001b[0m\u001b[0m\n\u001b[0;32m    729\u001b[0m   def evaluate(self,\n",
      "\u001b[1;32mD:\\Anaconda3\\lib\\site-packages\\tensorflow_core\\python\\keras\\engine\\training_arrays.py\u001b[0m in \u001b[0;36mfit\u001b[1;34m(self, model, x, y, batch_size, epochs, verbose, callbacks, validation_split, validation_data, shuffle, class_weight, sample_weight, initial_epoch, steps_per_epoch, validation_steps, validation_freq, **kwargs)\u001b[0m\n\u001b[0;32m    673\u001b[0m         \u001b[0mvalidation_steps\u001b[0m\u001b[1;33m=\u001b[0m\u001b[0mvalidation_steps\u001b[0m\u001b[1;33m,\u001b[0m\u001b[1;33m\u001b[0m\u001b[1;33m\u001b[0m\u001b[0m\n\u001b[0;32m    674\u001b[0m         \u001b[0mvalidation_freq\u001b[0m\u001b[1;33m=\u001b[0m\u001b[0mvalidation_freq\u001b[0m\u001b[1;33m,\u001b[0m\u001b[1;33m\u001b[0m\u001b[1;33m\u001b[0m\u001b[0m\n\u001b[1;32m--> 675\u001b[1;33m         steps_name='steps_per_epoch')\n\u001b[0m\u001b[0;32m    676\u001b[0m \u001b[1;33m\u001b[0m\u001b[0m\n\u001b[0;32m    677\u001b[0m   def evaluate(self,\n",
      "\u001b[1;32mD:\\Anaconda3\\lib\\site-packages\\tensorflow_core\\python\\keras\\engine\\training_arrays.py\u001b[0m in \u001b[0;36mmodel_iteration\u001b[1;34m(model, inputs, targets, sample_weights, batch_size, epochs, verbose, callbacks, val_inputs, val_targets, val_sample_weights, shuffle, initial_epoch, steps_per_epoch, validation_steps, validation_freq, mode, validation_in_fit, prepared_feed_values_from_dataset, steps_name, **kwargs)\u001b[0m\n\u001b[0;32m    392\u001b[0m \u001b[1;33m\u001b[0m\u001b[0m\n\u001b[0;32m    393\u001b[0m         \u001b[1;31m# Get outputs.\u001b[0m\u001b[1;33m\u001b[0m\u001b[1;33m\u001b[0m\u001b[1;33m\u001b[0m\u001b[0m\n\u001b[1;32m--> 394\u001b[1;33m         \u001b[0mbatch_outs\u001b[0m \u001b[1;33m=\u001b[0m \u001b[0mf\u001b[0m\u001b[1;33m(\u001b[0m\u001b[0mins_batch\u001b[0m\u001b[1;33m)\u001b[0m\u001b[1;33m\u001b[0m\u001b[1;33m\u001b[0m\u001b[0m\n\u001b[0m\u001b[0;32m    395\u001b[0m         \u001b[1;32mif\u001b[0m \u001b[1;32mnot\u001b[0m \u001b[0misinstance\u001b[0m\u001b[1;33m(\u001b[0m\u001b[0mbatch_outs\u001b[0m\u001b[1;33m,\u001b[0m \u001b[0mlist\u001b[0m\u001b[1;33m)\u001b[0m\u001b[1;33m:\u001b[0m\u001b[1;33m\u001b[0m\u001b[1;33m\u001b[0m\u001b[0m\n\u001b[0;32m    396\u001b[0m           \u001b[0mbatch_outs\u001b[0m \u001b[1;33m=\u001b[0m \u001b[1;33m[\u001b[0m\u001b[0mbatch_outs\u001b[0m\u001b[1;33m]\u001b[0m\u001b[1;33m\u001b[0m\u001b[1;33m\u001b[0m\u001b[0m\n",
      "\u001b[1;32mD:\\Anaconda3\\lib\\site-packages\\tensorflow_core\\python\\keras\\backend.py\u001b[0m in \u001b[0;36m__call__\u001b[1;34m(self, inputs)\u001b[0m\n\u001b[0;32m   3474\u001b[0m \u001b[1;33m\u001b[0m\u001b[0m\n\u001b[0;32m   3475\u001b[0m     fetched = self._callable_fn(*array_vals,\n\u001b[1;32m-> 3476\u001b[1;33m                                 run_metadata=self.run_metadata)\n\u001b[0m\u001b[0;32m   3477\u001b[0m     \u001b[0mself\u001b[0m\u001b[1;33m.\u001b[0m\u001b[0m_call_fetch_callbacks\u001b[0m\u001b[1;33m(\u001b[0m\u001b[0mfetched\u001b[0m\u001b[1;33m[\u001b[0m\u001b[1;33m-\u001b[0m\u001b[0mlen\u001b[0m\u001b[1;33m(\u001b[0m\u001b[0mself\u001b[0m\u001b[1;33m.\u001b[0m\u001b[0m_fetches\u001b[0m\u001b[1;33m)\u001b[0m\u001b[1;33m:\u001b[0m\u001b[1;33m]\u001b[0m\u001b[1;33m)\u001b[0m\u001b[1;33m\u001b[0m\u001b[1;33m\u001b[0m\u001b[0m\n\u001b[0;32m   3478\u001b[0m     output_structure = nest.pack_sequence_as(\n",
      "\u001b[1;32mD:\\Anaconda3\\lib\\site-packages\\tensorflow_core\\python\\client\\session.py\u001b[0m in \u001b[0;36m__call__\u001b[1;34m(self, *args, **kwargs)\u001b[0m\n\u001b[0;32m   1470\u001b[0m         ret = tf_session.TF_SessionRunCallable(self._session._session,\n\u001b[0;32m   1471\u001b[0m                                                \u001b[0mself\u001b[0m\u001b[1;33m.\u001b[0m\u001b[0m_handle\u001b[0m\u001b[1;33m,\u001b[0m \u001b[0margs\u001b[0m\u001b[1;33m,\u001b[0m\u001b[1;33m\u001b[0m\u001b[1;33m\u001b[0m\u001b[0m\n\u001b[1;32m-> 1472\u001b[1;33m                                                run_metadata_ptr)\n\u001b[0m\u001b[0;32m   1473\u001b[0m         \u001b[1;32mif\u001b[0m \u001b[0mrun_metadata\u001b[0m\u001b[1;33m:\u001b[0m\u001b[1;33m\u001b[0m\u001b[1;33m\u001b[0m\u001b[0m\n\u001b[0;32m   1474\u001b[0m           \u001b[0mproto_data\u001b[0m \u001b[1;33m=\u001b[0m \u001b[0mtf_session\u001b[0m\u001b[1;33m.\u001b[0m\u001b[0mTF_GetBuffer\u001b[0m\u001b[1;33m(\u001b[0m\u001b[0mrun_metadata_ptr\u001b[0m\u001b[1;33m)\u001b[0m\u001b[1;33m\u001b[0m\u001b[1;33m\u001b[0m\u001b[0m\n",
      "\u001b[1;31mKeyboardInterrupt\u001b[0m: "
     ]
    }
   ],
   "source": [
    "train_dataset.shuffle()\n",
    "model.fit(train_dataset.X, train_dataset.y,\n",
    "          batch_size=batch_size,\n",
    "#           epochs=epochs,\n",
    "          epochs=5, # --- train only for 1 epoch here for demonstration ---\n",
    "#           validation_data=(val_dataset.X, val_dataset.y),\n",
    "          shuffle=True,\n",
    "          callbacks=callbacks)"
   ]
  },
  {
   "cell_type": "code",
   "execution_count": null,
   "metadata": {},
   "outputs": [],
   "source": []
  }
 ],
 "metadata": {
  "kernelspec": {
   "display_name": "Python 3",
   "language": "python",
   "name": "python3"
  },
  "language_info": {
   "codemirror_mode": {
    "name": "ipython",
    "version": 3
   },
   "file_extension": ".py",
   "mimetype": "text/x-python",
   "name": "python",
   "nbconvert_exporter": "python",
   "pygments_lexer": "ipython3",
   "version": "3.7.4"
  }
 },
 "nbformat": 4,
 "nbformat_minor": 2
}
